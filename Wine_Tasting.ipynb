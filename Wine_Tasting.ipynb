{
  "nbformat": 4,
  "nbformat_minor": 0,
  "metadata": {
    "colab": {
      "name": "Wine_Tasting.ipynb",
      "provenance": [],
      "collapsed_sections": [],
      "authorship_tag": "ABX9TyOrWTxUCQibKBDFecMgHtoA",
      "include_colab_link": true
    },
    "kernelspec": {
      "name": "python3",
      "display_name": "Python 3"
    }
  },
  "cells": [
    {
      "cell_type": "markdown",
      "metadata": {
        "id": "view-in-github",
        "colab_type": "text"
      },
      "source": [
        "<a href=\"https://colab.research.google.com/github/Fitzpatrique/15-wine-tasting/blob/master/Wine_Tasting.ipynb\" target=\"_parent\"><img src=\"https://colab.research.google.com/assets/colab-badge.svg\" alt=\"Open In Colab\"/></a>"
      ]
    },
    {
      "cell_type": "code",
      "metadata": {
        "id": "4qVO73f_AwX9",
        "outputId": "d66238dc-267b-466b-a739-02e6bfaf3725",
        "colab": {
          "base_uri": "https://localhost:8080/",
          "height": 33
        }
      },
      "source": [
        "# Mount your Google drive folder on Colab\n",
        "from google.colab import drive\n",
        "drive.mount('/content/gdrive', force_remount=True)"
      ],
      "execution_count": 1,
      "outputs": [
        {
          "output_type": "stream",
          "text": [
            "Mounted at /content/gdrive\n"
          ],
          "name": "stdout"
        }
      ]
    },
    {
      "cell_type": "code",
      "metadata": {
        "id": "e9996Yahtdp7"
      },
      "source": [
        "import pandas as pd\n",
        "import nltk\n",
        "import numpy as np\n",
        "import re\n",
        "from nltk.stem import wordnet # to perform lemmitization\n",
        "#from sklearn.feature_extraction.text import CountVectorizer # to perform bow\n",
        "from sklearn.feature_extraction.text import TfidfVectorizer # to perform tfidf\n",
        "from nltk import pos_tag # for parts of speech\n",
        "from sklearn.metrics import pairwise_distances # to perform cosine similarity\n",
        "from nltk import word_tokenize #  to create tokens\n",
        "#from nltk.corpus import stopwords # for stop words"
      ],
      "execution_count": 2,
      "outputs": []
    },
    {
      "cell_type": "code",
      "metadata": {
        "id": "_0kQ5Y93EkIZ"
      },
      "source": [
        "def text_normalization(text):\n",
        "    text = str(text).lower() # text to lower case\n",
        "    spl_char_text = re.sub(r'[^a-z]',' ',text) # removing special characters\n",
        "    tokens = nltk.word_tokenize(spl_char_text) # word tokenizing\n",
        "    lema = wordnet.WordNetLemmatizer() # initializing lemmatization\n",
        "    tags_list = pos_tag(tokens, tagset = None) # parts of speech\n",
        "    lema_words = [] # empty list\n",
        "    \n",
        "    for token,pos_token in tags_list:\n",
        "        if pos_token.startswith('V'): # verb\n",
        "            pos_val = 'v'\n",
        "        elif pos_token.startswith('J'): # adjective\n",
        "            pos_val = 'a'\n",
        "        elif pos_token.startswith('R'): # adverb\n",
        "            pos_val = 'r'\n",
        "        else:\n",
        "            pos_val = 'n' # noun\n",
        "            \n",
        "        lema_token = lema.lemmatize(token, pos_val) # performing lemmmatization\n",
        "        lema_words.append(lema_token) # appending lemmatized token into a list\n",
        "    \n",
        "    return \" \".join(lema_words) # returns the lemmatized tokens as a sentence"
      ],
      "execution_count": 3,
      "outputs": []
    },
    {
      "cell_type": "code",
      "metadata": {
        "id": "kbFolQkdMnJ8",
        "outputId": "e458b1fe-ae25-4d88-d8e8-5b3a5d8f5fd4",
        "colab": {
          "base_uri": "https://localhost:8080/",
          "height": 66
        }
      },
      "source": [
        "import nltk\n",
        "nltk.download('punkt')"
      ],
      "execution_count": 4,
      "outputs": [
        {
          "output_type": "stream",
          "text": [
            "[nltk_data] Downloading package punkt to /root/nltk_data...\n",
            "[nltk_data]   Package punkt is already up-to-date!\n"
          ],
          "name": "stdout"
        },
        {
          "output_type": "execute_result",
          "data": {
            "text/plain": [
              "True"
            ]
          },
          "metadata": {
            "tags": []
          },
          "execution_count": 4
        }
      ]
    },
    {
      "cell_type": "code",
      "metadata": {
        "id": "Z_AfwrpTMxGg",
        "outputId": "22f1a323-4f0f-4430-c743-379177a2f1a0",
        "colab": {
          "base_uri": "https://localhost:8080/",
          "height": 98
        }
      },
      "source": [
        "nltk.download('averaged_perceptron_tagger')"
      ],
      "execution_count": 5,
      "outputs": [
        {
          "output_type": "stream",
          "text": [
            "[nltk_data] Downloading package averaged_perceptron_tagger to\n",
            "[nltk_data]     /root/nltk_data...\n",
            "[nltk_data]   Package averaged_perceptron_tagger is already up-to-\n",
            "[nltk_data]       date!\n"
          ],
          "name": "stdout"
        },
        {
          "output_type": "execute_result",
          "data": {
            "text/plain": [
              "True"
            ]
          },
          "metadata": {
            "tags": []
          },
          "execution_count": 5
        }
      ]
    },
    {
      "cell_type": "code",
      "metadata": {
        "id": "IPenmvPZM4AY",
        "outputId": "2bba6079-bd10-40c0-dd92-c50360f5493e",
        "colab": {
          "base_uri": "https://localhost:8080/",
          "height": 66
        }
      },
      "source": [
        "nltk.download('wordnet')"
      ],
      "execution_count": 6,
      "outputs": [
        {
          "output_type": "stream",
          "text": [
            "[nltk_data] Downloading package wordnet to /root/nltk_data...\n",
            "[nltk_data]   Package wordnet is already up-to-date!\n"
          ],
          "name": "stdout"
        },
        {
          "output_type": "execute_result",
          "data": {
            "text/plain": [
              "True"
            ]
          },
          "metadata": {
            "tags": []
          },
          "execution_count": 6
        }
      ]
    },
    {
      "cell_type": "code",
      "metadata": {
        "id": "xr4Om4goAWZV"
      },
      "source": [
        "wt_df = pd.read_csv('/content/gdrive/My Drive/wine_tasting_ds(3).csv')"
      ],
      "execution_count": 7,
      "outputs": []
    },
    {
      "cell_type": "code",
      "metadata": {
        "id": "18KS3KpTAghC",
        "outputId": "721db439-647b-44de-e167-87917c6b0c8c",
        "colab": {
          "base_uri": "https://localhost:8080/",
          "height": 191
        }
      },
      "source": [
        "wt_df.head()"
      ],
      "execution_count": 8,
      "outputs": [
        {
          "output_type": "execute_result",
          "data": {
            "text/html": [
              "<div>\n",
              "<style scoped>\n",
              "    .dataframe tbody tr th:only-of-type {\n",
              "        vertical-align: middle;\n",
              "    }\n",
              "\n",
              "    .dataframe tbody tr th {\n",
              "        vertical-align: top;\n",
              "    }\n",
              "\n",
              "    .dataframe thead th {\n",
              "        text-align: right;\n",
              "    }\n",
              "</style>\n",
              "<table border=\"1\" class=\"dataframe\">\n",
              "  <thead>\n",
              "    <tr style=\"text-align: right;\">\n",
              "      <th></th>\n",
              "      <th>Unnamed: 0</th>\n",
              "      <th>description</th>\n",
              "      <th>variety</th>\n",
              "      <th>winery</th>\n",
              "      <th>Location</th>\n",
              "      <th>lemmatized_text</th>\n",
              "    </tr>\n",
              "  </thead>\n",
              "  <tbody>\n",
              "    <tr>\n",
              "      <th>0</th>\n",
              "      <td>0</td>\n",
              "      <td>This tremendous 100% varietal wine hails from ...</td>\n",
              "      <td>Cabernet Sauvignon</td>\n",
              "      <td>Heitz</td>\n",
              "      <td>Napa California Valley US</td>\n",
              "      <td>this tremendous varietal wine hail from oakvil...</td>\n",
              "    </tr>\n",
              "    <tr>\n",
              "      <th>1</th>\n",
              "      <td>1</td>\n",
              "      <td>Ripe aromas of fig, blackberry and cassis are ...</td>\n",
              "      <td>Tinta de Toro</td>\n",
              "      <td>Bodega Carmen Rodríguez</td>\n",
              "      <td>Northern Toro Spain Spain</td>\n",
              "      <td>ripe aroma of fig blackberry and cassis be sof...</td>\n",
              "    </tr>\n",
              "    <tr>\n",
              "      <th>2</th>\n",
              "      <td>2</td>\n",
              "      <td>Mac Watson honors the memory of a wine once ma...</td>\n",
              "      <td>Sauvignon Blanc</td>\n",
              "      <td>Macauley</td>\n",
              "      <td>California Sonoma Knights Valley US</td>\n",
              "      <td>mac watson honor the memory of a wine once mak...</td>\n",
              "    </tr>\n",
              "    <tr>\n",
              "      <th>3</th>\n",
              "      <td>3</td>\n",
              "      <td>This spent 20 months in 30% new French oak, an...</td>\n",
              "      <td>Pinot Noir</td>\n",
              "      <td>Ponzi</td>\n",
              "      <td>Willamette Valley Oregon US</td>\n",
              "      <td>this spent month in new french oak and incorpo...</td>\n",
              "    </tr>\n",
              "    <tr>\n",
              "      <th>4</th>\n",
              "      <td>4</td>\n",
              "      <td>This is the top wine from La Bégude, named aft...</td>\n",
              "      <td>Provence red blend</td>\n",
              "      <td>Domaine de la Bégude</td>\n",
              "      <td>Provence Bandol France</td>\n",
              "      <td>this be the top wine from la b gude name after...</td>\n",
              "    </tr>\n",
              "  </tbody>\n",
              "</table>\n",
              "</div>"
            ],
            "text/plain": [
              "   Unnamed: 0  ...                                    lemmatized_text\n",
              "0           0  ...  this tremendous varietal wine hail from oakvil...\n",
              "1           1  ...  ripe aroma of fig blackberry and cassis be sof...\n",
              "2           2  ...  mac watson honor the memory of a wine once mak...\n",
              "3           3  ...  this spent month in new french oak and incorpo...\n",
              "4           4  ...  this be the top wine from la b gude name after...\n",
              "\n",
              "[5 rows x 6 columns]"
            ]
          },
          "metadata": {
            "tags": []
          },
          "execution_count": 8
        }
      ]
    },
    {
      "cell_type": "code",
      "metadata": {
        "id": "i_BIXcDAAlsP",
        "outputId": "13844041-f16c-45a8-b987-2801fc44c30d",
        "colab": {
          "base_uri": "https://localhost:8080/",
          "height": 228
        }
      },
      "source": [
        "wt_df.info()"
      ],
      "execution_count": 9,
      "outputs": [
        {
          "output_type": "stream",
          "text": [
            "<class 'pandas.core.frame.DataFrame'>\n",
            "RangeIndex: 410744 entries, 0 to 410743\n",
            "Data columns (total 6 columns):\n",
            " #   Column           Non-Null Count   Dtype \n",
            "---  ------           --------------   ----- \n",
            " 0   Unnamed: 0       410744 non-null  int64 \n",
            " 1   description      410744 non-null  object\n",
            " 2   variety          410744 non-null  object\n",
            " 3   winery           410744 non-null  object\n",
            " 4   Location         410744 non-null  object\n",
            " 5   lemmatized_text  410744 non-null  object\n",
            "dtypes: int64(1), object(5)\n",
            "memory usage: 18.8+ MB\n"
          ],
          "name": "stdout"
        }
      ]
    },
    {
      "cell_type": "code",
      "metadata": {
        "id": "kWC-5Hx9P9TF",
        "outputId": "e975218f-dbd2-4fea-ca2e-65a73a4cd895",
        "colab": {
          "base_uri": "https://localhost:8080/",
          "height": 66
        }
      },
      "source": [
        "import nltk\n",
        "nltk.download('stopwords')"
      ],
      "execution_count": 10,
      "outputs": [
        {
          "output_type": "stream",
          "text": [
            "[nltk_data] Downloading package stopwords to /root/nltk_data...\n",
            "[nltk_data]   Package stopwords is already up-to-date!\n"
          ],
          "name": "stdout"
        },
        {
          "output_type": "execute_result",
          "data": {
            "text/plain": [
              "True"
            ]
          },
          "metadata": {
            "tags": []
          },
          "execution_count": 10
        }
      ]
    },
    {
      "cell_type": "code",
      "metadata": {
        "id": "l8t61oN5PbQB"
      },
      "source": [
        "from nltk.corpus import stopwords\n",
        "stop = stopwords.words('english')"
      ],
      "execution_count": 11,
      "outputs": []
    },
    {
      "cell_type": "code",
      "metadata": {
        "id": "kccygQc3TUUJ"
      },
      "source": [
        "def string(text):\n",
        "  return str(text)"
      ],
      "execution_count": 12,
      "outputs": []
    },
    {
      "cell_type": "code",
      "metadata": {
        "id": "ZLolIXOeTfKG"
      },
      "source": [
        "wt_df['lemmatized_text'] = wt_df['lemmatized_text'].apply(string)"
      ],
      "execution_count": 13,
      "outputs": []
    },
    {
      "cell_type": "code",
      "metadata": {
        "id": "5Tm3JtEFPePb"
      },
      "source": [
        "wt_df['lemmatized_text'] = wt_df['lemmatized_text'].apply(lambda x: ' '.join([word for word in x.split() if word not in (stop)]))"
      ],
      "execution_count": 14,
      "outputs": []
    },
    {
      "cell_type": "code",
      "metadata": {
        "id": "B5e03RLfRjBm",
        "outputId": "fe5957b8-438a-447b-8937-745dbdac5a14",
        "colab": {
          "base_uri": "https://localhost:8080/",
          "height": 191
        }
      },
      "source": [
        "wt_df.head()"
      ],
      "execution_count": 15,
      "outputs": [
        {
          "output_type": "execute_result",
          "data": {
            "text/html": [
              "<div>\n",
              "<style scoped>\n",
              "    .dataframe tbody tr th:only-of-type {\n",
              "        vertical-align: middle;\n",
              "    }\n",
              "\n",
              "    .dataframe tbody tr th {\n",
              "        vertical-align: top;\n",
              "    }\n",
              "\n",
              "    .dataframe thead th {\n",
              "        text-align: right;\n",
              "    }\n",
              "</style>\n",
              "<table border=\"1\" class=\"dataframe\">\n",
              "  <thead>\n",
              "    <tr style=\"text-align: right;\">\n",
              "      <th></th>\n",
              "      <th>Unnamed: 0</th>\n",
              "      <th>description</th>\n",
              "      <th>variety</th>\n",
              "      <th>winery</th>\n",
              "      <th>Location</th>\n",
              "      <th>lemmatized_text</th>\n",
              "    </tr>\n",
              "  </thead>\n",
              "  <tbody>\n",
              "    <tr>\n",
              "      <th>0</th>\n",
              "      <td>0</td>\n",
              "      <td>This tremendous 100% varietal wine hails from ...</td>\n",
              "      <td>Cabernet Sauvignon</td>\n",
              "      <td>Heitz</td>\n",
              "      <td>Napa California Valley US</td>\n",
              "      <td>tremendous varietal wine hail oakville age thr...</td>\n",
              "    </tr>\n",
              "    <tr>\n",
              "      <th>1</th>\n",
              "      <td>1</td>\n",
              "      <td>Ripe aromas of fig, blackberry and cassis are ...</td>\n",
              "      <td>Tinta de Toro</td>\n",
              "      <td>Bodega Carmen Rodríguez</td>\n",
              "      <td>Northern Toro Spain Spain</td>\n",
              "      <td>ripe aroma fig blackberry cassis soften sweete...</td>\n",
              "    </tr>\n",
              "    <tr>\n",
              "      <th>2</th>\n",
              "      <td>2</td>\n",
              "      <td>Mac Watson honors the memory of a wine once ma...</td>\n",
              "      <td>Sauvignon Blanc</td>\n",
              "      <td>Macauley</td>\n",
              "      <td>California Sonoma Knights Valley US</td>\n",
              "      <td>mac watson honor memory wine make mother treme...</td>\n",
              "    </tr>\n",
              "    <tr>\n",
              "      <th>3</th>\n",
              "      <td>3</td>\n",
              "      <td>This spent 20 months in 30% new French oak, an...</td>\n",
              "      <td>Pinot Noir</td>\n",
              "      <td>Ponzi</td>\n",
              "      <td>Willamette Valley Oregon US</td>\n",
              "      <td>spent month new french oak incorporate fruit p...</td>\n",
              "    </tr>\n",
              "    <tr>\n",
              "      <th>4</th>\n",
              "      <td>4</td>\n",
              "      <td>This is the top wine from La Bégude, named aft...</td>\n",
              "      <td>Provence red blend</td>\n",
              "      <td>Domaine de la Bégude</td>\n",
              "      <td>Provence Bandol France</td>\n",
              "      <td>top wine la b gude name high point vineyard fo...</td>\n",
              "    </tr>\n",
              "  </tbody>\n",
              "</table>\n",
              "</div>"
            ],
            "text/plain": [
              "   Unnamed: 0  ...                                    lemmatized_text\n",
              "0           0  ...  tremendous varietal wine hail oakville age thr...\n",
              "1           1  ...  ripe aroma fig blackberry cassis soften sweete...\n",
              "2           2  ...  mac watson honor memory wine make mother treme...\n",
              "3           3  ...  spent month new french oak incorporate fruit p...\n",
              "4           4  ...  top wine la b gude name high point vineyard fo...\n",
              "\n",
              "[5 rows x 6 columns]"
            ]
          },
          "metadata": {
            "tags": []
          },
          "execution_count": 15
        }
      ]
    },
    {
      "cell_type": "code",
      "metadata": {
        "id": "X0ppwtxq_kbK"
      },
      "source": [
        "# using tf-idf\n",
        "\n",
        "tfidf = TfidfVectorizer() # initializing tf-idf\n",
        "x_tfidf = tfidf.fit_transform(wt_df['lemmatized_text'][:25000]).toarray() # transforming the data to array"
      ],
      "execution_count": 16,
      "outputs": []
    },
    {
      "cell_type": "code",
      "metadata": {
        "id": "6RIsTx7I_2I8"
      },
      "source": [
        "df_tfidf = pd.DataFrame(x_tfidf, columns=tfidf.get_feature_names())\n",
        "#df_tfidf.head(5)"
      ],
      "execution_count": 17,
      "outputs": []
    },
    {
      "cell_type": "code",
      "metadata": {
        "id": "Dw-4pb-nDedB"
      },
      "source": [
        "def description(text):\n",
        "    lemma = text_normalization(text) # calling the function to perform text normalization\n",
        "    tf = tfidf.transform([lemma]).toarray() # applying tf-idf\n",
        "    cos = 1 - pairwise_distances(df_tfidf,tf,metric='cosine') # applying cosing similarity\n",
        "    index_value = cos.argmax() # getting the index value\n",
        "    print(\"Variety: \", wt_df['variety'].loc[index_value])\n",
        "    print(\"Winery: \", wt_df['winery'].loc[index_value])\n",
        "    print(\"Location: \", wt_df['Location'].loc[index_value])"
      ],
      "execution_count": 18,
      "outputs": []
    },
    {
      "cell_type": "code",
      "metadata": {
        "id": "d_xIfhXpETzx"
      },
      "source": [
        "def run():\n",
        "    while True:\n",
        "        text = str(input(\"Enter the 'q' key to exit description: \"))\n",
        "        if text == 'q':\n",
        "            print(\"Bye!\")\n",
        "            return False\n",
        "        else:\n",
        "            print(description(text))\n",
        "            return run()"
      ],
      "execution_count": 19,
      "outputs": []
    },
    {
      "cell_type": "code",
      "metadata": {
        "id": "XbctCbYYFAea",
        "outputId": "71fb5a11-6385-40bd-a7c2-ec07b80a2811",
        "colab": {
          "base_uri": "https://localhost:8080/",
          "height": 147
        }
      },
      "source": [
        "run()"
      ],
      "execution_count": 20,
      "outputs": [
        {
          "output_type": "stream",
          "text": [
            "Enter the 'q' key to exit description: ripe aroma fig blackberry cassis soften\n",
            "Variety:  Tinta de Toro\n",
            "Winery:  Bodega Carmen Rodríguez\n",
            "Location:  Northern Toro Spain Spain\n",
            "None\n",
            "Enter the 'q' key to exit description: q\n",
            "Bye!\n"
          ],
          "name": "stdout"
        },
        {
          "output_type": "execute_result",
          "data": {
            "text/plain": [
              "False"
            ]
          },
          "metadata": {
            "tags": []
          },
          "execution_count": 20
        }
      ]
    }
  ]
}