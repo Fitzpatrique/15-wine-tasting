{
  "nbformat": 4,
  "nbformat_minor": 0,
  "metadata": {
    "accelerator": "GPU",
    "colab": {
      "name": "Wine_Tasting_DL_Model.ipynb",
      "provenance": [],
      "collapsed_sections": []
    },
    "kernelspec": {
      "display_name": "Python 3",
      "name": "python3"
    }
  },
  "cells": [
    {
      "cell_type": "code",
      "metadata": {
        "colab": {
          "base_uri": "https://localhost:8080/"
        },
        "id": "4qVO73f_AwX9",
        "outputId": "a2918bdd-017c-4ccf-9063-728459241f59"
      },
      "source": [
        "# Mount your Google drive folder on Colab\n",
        "from google.colab import drive\n",
        "drive.mount('/content/gdrive', force_remount=True)"
      ],
      "execution_count": 1,
      "outputs": [
        {
          "output_type": "stream",
          "text": [
            "Mounted at /content/gdrive\n"
          ],
          "name": "stdout"
        }
      ]
    },
    {
      "cell_type": "code",
      "metadata": {
        "id": "e9996Yahtdp7"
      },
      "source": [
        "import pandas as pd\n",
        "import nltk\n",
        "import numpy as np\n",
        "import re\n",
        "from nltk.stem import wordnet # to perform lemmitization\n",
        "#from sklearn.feature_extraction.text import CountVectorizer # to perform bow\n",
        "from sklearn.feature_extraction.text import TfidfVectorizer # to perform tfidf\n",
        "from nltk import pos_tag # for parts of speech\n",
        "from sklearn.metrics import pairwise_distances # to perform cosine similarity\n",
        "from nltk import word_tokenize #  to create tokens\n",
        "#from nltk.corpus import stopwords # for stop words"
      ],
      "execution_count": 1,
      "outputs": []
    },
    {
      "cell_type": "code",
      "metadata": {
        "colab": {
          "base_uri": "https://localhost:8080/"
        },
        "id": "kWC-5Hx9P9TF",
        "outputId": "4ce9508c-c5bf-44f3-e051-b985984827ff"
      },
      "source": [
        "import nltk\n",
        "nltk.download('stopwords')"
      ],
      "execution_count": 2,
      "outputs": [
        {
          "output_type": "stream",
          "text": [
            "[nltk_data] Downloading package stopwords to /root/nltk_data...\n",
            "[nltk_data]   Package stopwords is already up-to-date!\n"
          ],
          "name": "stdout"
        },
        {
          "output_type": "execute_result",
          "data": {
            "text/plain": [
              "True"
            ]
          },
          "metadata": {
            "tags": []
          },
          "execution_count": 2
        }
      ]
    },
    {
      "cell_type": "code",
      "metadata": {
        "id": "l8t61oN5PbQB"
      },
      "source": [
        "from nltk.corpus import stopwords\n",
        "stop = stopwords.words('english')"
      ],
      "execution_count": 3,
      "outputs": []
    },
    {
      "cell_type": "code",
      "metadata": {
        "id": "JB3gJ5IUlUMt"
      },
      "source": [
        "df = pd.read_csv('/content/gdrive/My Drive/wine_tasting_dataprep.csv')"
      ],
      "execution_count": 4,
      "outputs": []
    },
    {
      "cell_type": "code",
      "metadata": {
        "id": "OVXdFLUQZlON"
      },
      "source": [
        "#df = pd.read_csv('/content/gdrive/My Drive/wine_tasting_dataprep(2).csv')"
      ],
      "execution_count": 4,
      "outputs": []
    },
    {
      "cell_type": "code",
      "metadata": {
        "id": "M5gUsPKalfok"
      },
      "source": [
        "df.drop('Unnamed: 0', axis=1, inplace=True)"
      ],
      "execution_count": 5,
      "outputs": []
    },
    {
      "cell_type": "code",
      "metadata": {
        "id": "8wj1nabxtTcC"
      },
      "source": [
        "variety_list = list(df['variety'].unique())\n",
        "winery_list = list(df['winery'].unique())\n",
        "location_list = list(df['Location'].unique())"
      ],
      "execution_count": 6,
      "outputs": []
    },
    {
      "cell_type": "code",
      "metadata": {
        "colab": {
          "base_uri": "https://localhost:8080/"
        },
        "id": "W4UdBX7mweDL",
        "outputId": "b6054bff-fb32-4d72-8377-effce7f018ff"
      },
      "source": [
        "print('variety', len(variety_list))\n",
        "print('winery', len(winery_list))\n",
        "print('location', len(location_list))"
      ],
      "execution_count": 7,
      "outputs": [
        {
          "output_type": "stream",
          "text": [
            "variety 750\n",
            "winery 19176\n",
            "location 1783\n"
          ],
          "name": "stdout"
        }
      ]
    },
    {
      "cell_type": "code",
      "metadata": {
        "id": "zHectm--wrBB"
      },
      "source": [
        "def VID(text):\n",
        "  for i in range(len(variety_list)):\n",
        "    if text == variety_list[i]:\n",
        "      return i\n",
        "def WID(text):\n",
        "  for i in range(len(winery_list)):\n",
        "    if text == winery_list[i]:\n",
        "      return i\n",
        "def LID(text):\n",
        "  for i in range(len(location_list)):\n",
        "    if text == location_list[i]:\n",
        "      return i"
      ],
      "execution_count": 8,
      "outputs": []
    },
    {
      "cell_type": "code",
      "metadata": {
        "id": "jBUf3pi7w1Pn"
      },
      "source": [
        "df['variety_ID'] = df['variety'].apply(VID)\n",
        "df['winery_ID'] = df['winery'].apply(WID)\n",
        "df['location_ID'] =df['Location'].apply(LID)"
      ],
      "execution_count": 9,
      "outputs": []
    },
    {
      "cell_type": "code",
      "metadata": {
        "id": "7ViaoFMTmAlj",
        "colab": {
          "base_uri": "https://localhost:8080/",
          "height": 272
        },
        "outputId": "1f635d54-bb68-44d0-a007-0004c6fd40d3"
      },
      "source": [
        "df.head()"
      ],
      "execution_count": 10,
      "outputs": [
        {
          "output_type": "execute_result",
          "data": {
            "text/html": [
              "<div>\n",
              "<style scoped>\n",
              "    .dataframe tbody tr th:only-of-type {\n",
              "        vertical-align: middle;\n",
              "    }\n",
              "\n",
              "    .dataframe tbody tr th {\n",
              "        vertical-align: top;\n",
              "    }\n",
              "\n",
              "    .dataframe thead th {\n",
              "        text-align: right;\n",
              "    }\n",
              "</style>\n",
              "<table border=\"1\" class=\"dataframe\">\n",
              "  <thead>\n",
              "    <tr style=\"text-align: right;\">\n",
              "      <th></th>\n",
              "      <th>description</th>\n",
              "      <th>variety</th>\n",
              "      <th>winery</th>\n",
              "      <th>Location</th>\n",
              "      <th>lemmatized_text</th>\n",
              "      <th>variety_ID</th>\n",
              "      <th>winery_ID</th>\n",
              "      <th>location_ID</th>\n",
              "    </tr>\n",
              "  </thead>\n",
              "  <tbody>\n",
              "    <tr>\n",
              "      <th>0</th>\n",
              "      <td>This tremendous 100% varietal wine hails from ...</td>\n",
              "      <td>Cabernet Sauvignon</td>\n",
              "      <td>Heitz</td>\n",
              "      <td>Napa Valley California US</td>\n",
              "      <td>this tremendous varietal wine hail from oakvil...</td>\n",
              "      <td>0</td>\n",
              "      <td>0</td>\n",
              "      <td>0</td>\n",
              "    </tr>\n",
              "    <tr>\n",
              "      <th>1</th>\n",
              "      <td>Ripe aromas of fig, blackberry and cassis are ...</td>\n",
              "      <td>Tinta de Toro</td>\n",
              "      <td>Bodega Carmen Rodríguez</td>\n",
              "      <td>Toro Northern Spain</td>\n",
              "      <td>ripe aroma of fig blackberry and cassis be sof...</td>\n",
              "      <td>1</td>\n",
              "      <td>1</td>\n",
              "      <td>1</td>\n",
              "    </tr>\n",
              "    <tr>\n",
              "      <th>2</th>\n",
              "      <td>Mac Watson honors the memory of a wine once ma...</td>\n",
              "      <td>Sauvignon Blanc</td>\n",
              "      <td>Macauley</td>\n",
              "      <td>Knights Valley Sonoma California US</td>\n",
              "      <td>mac watson honor the memory of a wine once mak...</td>\n",
              "      <td>2</td>\n",
              "      <td>2</td>\n",
              "      <td>2</td>\n",
              "    </tr>\n",
              "    <tr>\n",
              "      <th>3</th>\n",
              "      <td>This spent 20 months in 30% new French oak, an...</td>\n",
              "      <td>Pinot Noir</td>\n",
              "      <td>Ponzi</td>\n",
              "      <td>Willamette Valley Oregon US</td>\n",
              "      <td>this spent month in new french oak and incorpo...</td>\n",
              "      <td>3</td>\n",
              "      <td>3</td>\n",
              "      <td>3</td>\n",
              "    </tr>\n",
              "    <tr>\n",
              "      <th>4</th>\n",
              "      <td>This is the top wine from La Bégude, named aft...</td>\n",
              "      <td>Provence red blend</td>\n",
              "      <td>Domaine de la Bégude</td>\n",
              "      <td>Bandol Provence France</td>\n",
              "      <td>this be the top wine from la b gude name after...</td>\n",
              "      <td>4</td>\n",
              "      <td>4</td>\n",
              "      <td>4</td>\n",
              "    </tr>\n",
              "  </tbody>\n",
              "</table>\n",
              "</div>"
            ],
            "text/plain": [
              "                                         description  ... location_ID\n",
              "0  This tremendous 100% varietal wine hails from ...  ...           0\n",
              "1  Ripe aromas of fig, blackberry and cassis are ...  ...           1\n",
              "2  Mac Watson honors the memory of a wine once ma...  ...           2\n",
              "3  This spent 20 months in 30% new French oak, an...  ...           3\n",
              "4  This is the top wine from La Bégude, named aft...  ...           4\n",
              "\n",
              "[5 rows x 8 columns]"
            ]
          },
          "metadata": {
            "tags": []
          },
          "execution_count": 10
        }
      ]
    },
    {
      "cell_type": "code",
      "metadata": {
        "id": "2_N-BuJmZSEK"
      },
      "source": [
        "df.to_csv('/content/gdrive/My Drive/wine_tasting_dataprep(2).csv')"
      ],
      "execution_count": 16,
      "outputs": []
    },
    {
      "cell_type": "code",
      "metadata": {
        "id": "Cxx-9hGRoO4K"
      },
      "source": [
        "# using tf-idf\n",
        " \n",
        "tfidf = TfidfVectorizer(max_features=184,min_df=7, max_df=0.8, stop_words=stopwords.words('english')) # initializing tf-idf\n",
        "x_tfidf = tfidf.fit_transform(df['lemmatized_text']).toarray() # transforming the data to array"
      ],
      "execution_count": 6,
      "outputs": []
    },
    {
      "cell_type": "code",
      "metadata": {
        "id": "exJ9MuM1porb"
      },
      "source": [
        "variety_id = np.array(list(df['variety_ID']))\n",
        "winery_id = np.array(list(df['winery_ID']))\n",
        "location_id = np.array(list(df['location_ID']))"
      ],
      "execution_count": 7,
      "outputs": []
    },
    {
      "cell_type": "code",
      "metadata": {
        "id": "1DHb7jKnAvWw"
      },
      "source": [
        "df_tfidf = pd.DataFrame(x_tfidf, columns=tfidf.get_feature_names())"
      ],
      "execution_count": 8,
      "outputs": []
    },
    {
      "cell_type": "code",
      "metadata": {
        "id": "9JORFAm_ybyL"
      },
      "source": [
        "from sklearn.model_selection import train_test_split\n",
        "Xv_train, Xv_test, yv_train, yv_test = train_test_split(df_tfidf, variety_id, test_size=0.2, random_state=101)\n",
        "Xw_train, Xw_test, yw_train, yw_test = train_test_split(df_tfidf, winery_id, test_size=0.2, random_state=101)\n",
        "Xl_train, Xl_test, yl_train, yl_test = train_test_split(df_tfidf, location_id, test_size=0.2, random_state=101)"
      ],
      "execution_count": 9,
      "outputs": []
    },
    {
      "cell_type": "code",
      "metadata": {
        "id": "saCJUC3szbkI"
      },
      "source": [
        "from sklearn.ensemble import RandomForestClassifier"
      ],
      "execution_count": 10,
      "outputs": []
    },
    {
      "cell_type": "code",
      "metadata": {
        "colab": {
          "base_uri": "https://localhost:8080/"
        },
        "id": "jloVRc9C5ufH",
        "outputId": "95aabd52-a573-4d71-aab3-d673fa67144b"
      },
      "source": [
        "v_forest = RandomForestClassifier(n_estimators=3, random_state=2)\n",
        "v_forest.fit(Xv_train, yv_train)"
      ],
      "execution_count": 11,
      "outputs": [
        {
          "output_type": "execute_result",
          "data": {
            "text/plain": [
              "RandomForestClassifier(bootstrap=True, ccp_alpha=0.0, class_weight=None,\n",
              "                       criterion='gini', max_depth=None, max_features='auto',\n",
              "                       max_leaf_nodes=None, max_samples=None,\n",
              "                       min_impurity_decrease=0.0, min_impurity_split=None,\n",
              "                       min_samples_leaf=1, min_samples_split=2,\n",
              "                       min_weight_fraction_leaf=0.0, n_estimators=3,\n",
              "                       n_jobs=None, oob_score=False, random_state=2, verbose=0,\n",
              "                       warm_start=False)"
            ]
          },
          "metadata": {
            "tags": []
          },
          "execution_count": 11
        }
      ]
    },
    {
      "cell_type": "code",
      "metadata": {
        "colab": {
          "base_uri": "https://localhost:8080/"
        },
        "id": "mUGrtlvSw-Kl",
        "outputId": "ba6d4064-f563-4809-ea37-b2263837d53e"
      },
      "source": [
        "print(\"Accuracy on training set: {:.3f}\".format(v_forest.score(Xv_train, yv_train)))\n",
        "print(\"Accuracy on test set: {:.3f}\".format(v_forest.score(Xv_test, yv_test)))"
      ],
      "execution_count": 12,
      "outputs": [
        {
          "output_type": "stream",
          "text": [
            "Accuracy on training set: 0.966\n",
            "Accuracy on test set: 0.829\n"
          ],
          "name": "stdout"
        }
      ]
    },
    {
      "cell_type": "code",
      "metadata": {
        "colab": {
          "base_uri": "https://localhost:8080/"
        },
        "id": "pVp82txpbanR",
        "outputId": "48925a86-1478-44b2-a2ec-0b1b6ef7a6ae"
      },
      "source": [
        "import joblib\n",
        "\n",
        "filename = 'finalized_WTDL_model.sav'\n",
        "joblib.dump(v_forest, filename)"
      ],
      "execution_count": 14,
      "outputs": [
        {
          "output_type": "execute_result",
          "data": {
            "text/plain": [
              "['finalized_WTDL_model.sav']"
            ]
          },
          "metadata": {
            "tags": []
          },
          "execution_count": 14
        }
      ]
    },
    {
      "cell_type": "code",
      "metadata": {
        "id": "2NKU5Urdzw0s"
      },
      "source": [
        "from sklearn.naive_bayes import MultinomialNB"
      ],
      "execution_count": 17,
      "outputs": []
    },
    {
      "cell_type": "code",
      "metadata": {
        "colab": {
          "base_uri": "https://localhost:8080/"
        },
        "id": "iH9xTjccVWLz",
        "outputId": "05af9f83-3331-4a18-cf88-d1e8c8b4f31d"
      },
      "source": [
        "v_nb = MultinomialNB(alpha=0.001)\n",
        "v_nb.fit(Xv_train, yv_train)"
      ],
      "execution_count": 25,
      "outputs": [
        {
          "output_type": "execute_result",
          "data": {
            "text/plain": [
              "MultinomialNB(alpha=0.001, class_prior=None, fit_prior=True)"
            ]
          },
          "metadata": {
            "tags": []
          },
          "execution_count": 25
        }
      ]
    },
    {
      "cell_type": "code",
      "metadata": {
        "colab": {
          "base_uri": "https://localhost:8080/"
        },
        "id": "z4N4u5rnVsIO",
        "outputId": "4f97478a-5f96-4168-edf0-05b689e5b1cf"
      },
      "source": [
        "print(\"Accuracy on training set: {:.3f}\".format(v_nb.score(Xv_train, yv_train)))\n",
        "print(\"Accuracy on test set: {:.3f}\".format(v_nb.score(Xv_test, yv_test)))"
      ],
      "execution_count": 26,
      "outputs": [
        {
          "output_type": "stream",
          "text": [
            "Accuracy on training set: 0.375\n",
            "Accuracy on test set: 0.375\n"
          ],
          "name": "stdout"
        }
      ]
    },
    {
      "cell_type": "code",
      "metadata": {
        "id": "RPq_afFRWj_8"
      },
      "source": [
        ""
      ],
      "execution_count": null,
      "outputs": []
    }
  ]
}